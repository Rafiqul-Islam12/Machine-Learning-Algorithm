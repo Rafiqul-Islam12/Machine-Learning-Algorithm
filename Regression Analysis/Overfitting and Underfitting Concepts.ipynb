{
 "cells": [
  {
   "cell_type": "markdown",
   "id": "de4e7fd5",
   "metadata": {},
   "source": [
    "<img src=\"images/img04.png\" width=\"800\">   "
   ]
  },
  {
   "cell_type": "markdown",
   "id": "2afb251f",
   "metadata": {},
   "source": [
    "## ***1. Underfitting***\n",
    "***It happens when a model is too simple to capture what’s going on in the data.***      \n",
    "***মডেল ডেটার প্যাটার্ন ভালোভাবে শিখতে পারে না।***          \n",
    "***মডেল অনেক বেশি simple বা দুর্বল হওয়ার কারণে training data আর test data — দুই জায়গায়ই খারাপ পারফর্ম করে।***          \n",
    "***Bias (ভুল অনুমান) বেশি থাকে, Variance (ডেটা বদলালে পরিবর্তন) কম থাকে।***           "
   ]
  },
  {
   "cell_type": "markdown",
   "id": "e7cb840c",
   "metadata": {},
   "source": [
    "## ***2. Best Fitting / Good Fit***             \n",
    "***মডেল আসল প্যাটার্ন শিখেছে, কিন্তু noise মুখস্থ করেনি।***           \n",
    "***Training ও Test — দুই জায়গায়ই ভালো পারফর্ম করে।***            \n",
    "***Bias আর Variance এর মধ্যে সঠিক ব্যালান্স থাকে।***        "
   ]
  },
  {
   "cell_type": "markdown",
   "id": "1ad69be3",
   "metadata": {},
   "source": [
    "## ***3. Overfitting***         \n",
    "***It happens when a model learns too much from the training data, including details that don’t matter (like noise or outliers).***\n",
    "***মডেল ডেটার আসল প্যাটার্ন ছাড়াও noise (অপ্রয়োজনীয় এলোমেলো তথ্য) শিখে ফেলে।***        \n",
    "***Training data তে Accuracy অনেক বেশি হয়, কিন্তু নতুন (Test) ডেটায় Accuracy খারাপ হয়।***           \n",
    "***Bias কম, Variance বেশি।***           "
   ]
  },
  {
   "cell_type": "markdown",
   "id": "f1ffbde8",
   "metadata": {},
   "source": [
    "### ***Techniques to Reduce Underfitting***\n",
    "***1. Increase model complexity.***           \n",
    "***2. Increase the number of features, performing feature engineering.***           \n",
    "***3. Remove noise from the data.***             \n",
    "***4. Increase the number of epochs or increase the duration of training to get better results.***            "
   ]
  },
  {
   "cell_type": "markdown",
   "id": "d558e0bd",
   "metadata": {},
   "source": [
    "### ***Techniques to Reduce Overfitting***             \n",
    "***1. Improving the quality of training data reduces overfitting by focusing on meaningful patterns, mitigate the risk of fitting the noise or irrelevant features.***                 \n",
    "***2. Increase the training data can improve the model's ability to generalize to unseen data and reduce the likelihood of overfitting.***           \n",
    "***3. Reduce model complexity.***              \n",
    "***4. Early stopping during the training phase (have an eye over the loss over the training period as soon as loss begins to increase stop training).***              \n",
    "***5. Ridge Regularization and Lasso Regularization.***            \n",
    "***6. Use dropout for neural networks to tackle overfitting.***            "
   ]
  }
 ],
 "metadata": {
  "kernelspec": {
   "display_name": "Python 3",
   "language": "python",
   "name": "python3"
  },
  "language_info": {
   "name": "python",
   "version": "3.13.1"
  }
 },
 "nbformat": 4,
 "nbformat_minor": 5
}
